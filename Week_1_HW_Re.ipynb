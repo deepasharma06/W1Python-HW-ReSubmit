{
  "nbformat": 4,
  "nbformat_minor": 0,
  "metadata": {
    "colab": {
      "name": "Week 1 HW Re.ipynb",
      "provenance": [],
      "authorship_tag": "ABX9TyPikvqC9SuA76n84Thxdx5i",
      "include_colab_link": true
    },
    "kernelspec": {
      "name": "python3",
      "display_name": "Python 3"
    },
    "language_info": {
      "name": "python"
    }
  },
  "cells": [
    {
      "cell_type": "markdown",
      "metadata": {
        "id": "view-in-github",
        "colab_type": "text"
      },
      "source": [
        "<a href=\"https://colab.research.google.com/github/deepasharma06/W1Python-HW-ReSubmit/blob/main/Week_1_HW_Re.ipynb\" target=\"_parent\"><img src=\"https://colab.research.google.com/assets/colab-badge.svg\" alt=\"Open In Colab\"/></a>"
      ]
    },
    {
      "cell_type": "markdown",
      "source": [
        "#1: Even-Odd Vending Machine - enter even number\n",
        "\n"
      ],
      "metadata": {
        "id": "WZsiWtIvQKZ1"
      }
    },
    {
      "cell_type": "code",
      "source": [
        "def even_odd_vending(num):\n",
        "\n",
        "    if (num % 2) == 0:\n",
        "        print('Even')\n",
        "    else:\n",
        "        print('Odd')\n",
        "    count = 1\n",
        "    while count <= 9:\n",
        "        num += 2\n",
        "        print(num)\n",
        "        # increment the count of numbers printed\n",
        "        count += 1\n",
        "\n",
        "if __name__ == '__main__':\n",
        "    try:\n",
        "        num = float(input('Enter an integer: '))\n",
        "        if num.is_integer():\n",
        "            even_odd_vending(int(num))\n",
        "        else:\n",
        "            print('Please enter an integer')            \n",
        "    except ValueError:\n",
        "        print('Please enter a number')"
      ],
      "metadata": {
        "colab": {
          "base_uri": "https://localhost:8080/"
        },
        "id": "y6PV83X6QXu8",
        "outputId": "217f71de-2087-459a-8d26-d406e6c9dfb8"
      },
      "execution_count": null,
      "outputs": [
        {
          "output_type": "stream",
          "name": "stdout",
          "text": [
            "Enter an integer: 1\n",
            "Odd\n",
            "3\n",
            "5\n",
            "7\n",
            "9\n",
            "11\n",
            "13\n",
            "15\n",
            "17\n",
            "19\n"
          ]
        }
      ]
    },
    {
      "cell_type": "markdown",
      "source": [
        "1: Even-Odd Vending Machine - enter odd number\n"
      ],
      "metadata": {
        "id": "OY9tN5sFQof6"
      }
    },
    {
      "cell_type": "code",
      "source": [
        "def even_odd_vending(num):\n",
        "\n",
        "    if (num % 2) == 0:\n",
        "        print('Even')\n",
        "    else:\n",
        "        print('Odd')\n",
        "    count = 1\n",
        "    while count <= 9:\n",
        "        num += 2\n",
        "        print(num)\n",
        "        # increment the count of numbers printed\n",
        "        count += 1\n",
        "\n",
        "if __name__ == '__main__':\n",
        "    try:\n",
        "        num = float(input('Enter an integer: '))\n",
        "        if num.is_integer():\n",
        "            even_odd_vending(int(num))\n",
        "        else:\n",
        "            print('Please enter an integer')            \n",
        "    except ValueError:\n",
        "        print('Please enter a number')"
      ],
      "metadata": {
        "colab": {
          "base_uri": "https://localhost:8080/"
        },
        "id": "2d5sUbfzQxII",
        "outputId": "5a78058b-18e2-4f8f-bb2a-d63ff7815f63"
      },
      "execution_count": null,
      "outputs": [
        {
          "output_type": "stream",
          "name": "stdout",
          "text": [
            "Enter an integer: 2\n",
            "Even\n",
            "4\n",
            "6\n",
            "8\n",
            "10\n",
            "12\n",
            "14\n",
            "16\n",
            "18\n",
            "20\n"
          ]
        }
      ]
    },
    {
      "cell_type": "code",
      "source": [
        ""
      ],
      "metadata": {
        "id": "Xc8tezBlFGN8"
      },
      "execution_count": null,
      "outputs": []
    },
    {
      "cell_type": "markdown",
      "source": [
        "\n",
        "Chapter 5.  Programming Challenge 2 page 143, Law of Large Numbers\n"
      ],
      "metadata": {
        "id": "RZvdYlISREEe"
      }
    },
    {
      "cell_type": "code",
      "source": [
        "import random\n",
        "e = 1*(1/6) + 2*(1/6) + 3*(1/6) + 4*(1/6) + 5*(1/6) + 6*(1/6)\n",
        "print('Expected value: '+str(e))\n",
        "t_100=0\n",
        "t_1000=0\n",
        "t_10000=0\n",
        "t_100000=0\n",
        "t_500000=0\n",
        "count=0\n",
        "while count<100:\n",
        "  roll = random.randint(0,6)\n",
        "  t_100+=roll\n",
        "  count+=1\n",
        "  t_100/100\n",
        "print('Trials: 100 Trial average '+str(t_100/100))\n",
        "count=0\n",
        "while count<1000:\n",
        "  roll = random.randint(1,6)\n",
        "  t_1000+=roll\n",
        "  count+=1\n",
        "  t_1000/1000\n",
        "print('Trials: 1000 Trial average '+str(t_1000/1000))\n",
        "count=0\n",
        "while count<10000:\n",
        "  roll = random.randint(1,6)\n",
        "  t_10000+=roll\n",
        "  count+=1\n",
        "  t_10000/10000\n",
        "print('Trials: 10000 Trial average '+str(t_10000/10000))\n",
        "count=0\n",
        "while count<100000:\n",
        "  roll = random.randint(1,6)\n",
        "  t_100000+=roll\n",
        "  count+=1\n",
        "  t_100000/100000\n",
        "print('Trials: 100000 Trial average '+str(t_100000/100000))\n",
        "count=0\n",
        "while count<500000:\n",
        "  roll = random.randint(1,6)\n",
        "  t_500000+=roll\n",
        "  count+=1\n",
        "print('Trials: 500000 Trial average '+str(t_500000/500000))\n",
        "count=0\n"
      ],
      "metadata": {
        "colab": {
          "base_uri": "https://localhost:8080/"
        },
        "id": "3l8uJ5ZWRU2o",
        "outputId": "1bef1458-2eba-42f8-bde4-1d45c9207c64"
      },
      "execution_count": null,
      "outputs": [
        {
          "output_type": "stream",
          "name": "stdout",
          "text": [
            "Expected value: 3.5\n",
            "Trials: 100 Trial average 3.08\n",
            "Trials: 1000 Trial average 3.479\n",
            "Trials: 10000 Trial average 3.5143\n",
            "Trials: 100000 Trial average 3.51045\n",
            "Trials: 500000 Trial average 3.496356\n"
          ]
        }
      ]
    },
    {
      "cell_type": "markdown",
      "source": [
        ""
      ],
      "metadata": {
        "id": "xBQtzUKoHNPG"
      }
    },
    {
      "cell_type": "code",
      "source": [
        "# I took a sample of weather data (high and low temperatures in the airports) from my MySql workshop.\n",
        "# Then I removed the negative values just to keep the graph clean. I could probably have used negative values as well.\n",
        "# I saved the file as mydata.csv in colab\n",
        "# Then I made the following imports to COlab\n",
        "\n",
        "import numpy as np\n",
        "import pandas as pd\n",
        "import matplotlib.pyplot as plt\n",
        "plt.rcParams['figure.figsize'] = (12.0, 9.0)\n",
        "\n",
        "# Then I preprocessed the data from my source file.\n",
        "data = pd.read_csv('/content/sample_data/mydata.csv')\n",
        "X = data.iloc[:, 0]\n",
        "Y = data.iloc[:, 1]\n",
        "plt.scatter(x,y)\n",
        "\n",
        "# Then I built the model using a Y = MX + C equation\n",
        "m = 0\n",
        "c = 0\n",
        "L = 0.0001\n",
        "epochs = 1000\n",
        "n = float(len(X))\n",
        "for i in range(len(X)):\n",
        "  Y_pred = m*X + c\n",
        "  D_m = (-2/n) * sum(X * (Y - Y_pred))\n",
        "  D_c = (-2/n) * sum(Y - Y_pred)\n",
        "  m = m - L*D_m\n",
        "  c = c - L*D_c\n",
        "\n",
        "# Then I made the predictions on the normal line. This line consists the values that are the most closest to the normal. The line represents the theoritical normal temperature\n",
        "# in the airport. The Red line is the line that joins the lowest and the highest points.\n",
        "Y_pred = m*X + c\n",
        "plt.scatter(X,Y)\n",
        "plt.scatter(X,Y_pred)\n",
        "plt.plot([min(X), max(X)], [min(Y_pred), max(Y_pred)], color = 'red')\n",
        "plt.show()\n"
      ],
      "metadata": {
        "colab": {
          "base_uri": "https://localhost:8080/",
          "height": 533
        },
        "id": "iStfvaa9Asf5",
        "outputId": "89276cbc-f309-443d-ec3b-57ef9b3dabf6"
      },
      "execution_count": null,
      "outputs": [
        {
          "output_type": "display_data",
          "data": {
            "image/png": "[encoded data removed]",
            "text/plain": [
              "<Figure size 864x648 with 1 Axes>"
            ]
          },
          "metadata": {
            "needs_background": "light"
          }
        }
      ]
    },
    {
      "cell_type": "code",
      "source": [
        "from google.colab import drive\n",
        "drive.mount ('/content/drive')\n",
        "!pwd"
      ],
      "metadata": {
        "colab": {
          "base_uri": "https://localhost:8080/"
        },
        "id": "eBgWsOPMFPDF",
        "outputId": "1166148d-07fe-4646-f656-97cacb3f1b9f"
      },
      "execution_count": null,
      "outputs": [
        {
          "output_type": "stream",
          "name": "stdout",
          "text": [
            "Mounted at /content/drive\n",
            "/content\n"
          ]
        }
      ]
    },
    {
      "cell_type": "code",
      "source": [
        "%%shell\n",
        "jupyter nbconvert --to html //content//Week_1_HW_ReSubmit.ipynb"
      ],
      "metadata": {
        "colab": {
          "base_uri": "https://localhost:8080/"
        },
        "id": "WPRCA-CwHpaQ",
        "outputId": "1567a809-1ebc-491d-8cf1-9967cc4b499e"
      },
      "execution_count": null,
      "outputs": [
        {
          "output_type": "stream",
          "name": "stdout",
          "text": [
            "[NbConvertApp] Converting notebook //content//Week_1_HW_ReSubmit.ipynb to html\n",
            "[NbConvertApp] Writing 341607 bytes to //content/Week_1_HW_ReSubmit.html\n"
          ]
        },
        {
          "output_type": "execute_result",
          "data": {
            "text/plain": [
              ""
            ]
          },
          "metadata": {},
          "execution_count": 130
        }
      ]
    }
  ]
}